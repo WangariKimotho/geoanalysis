{
 "cells": [
  {
   "cell_type": "code",
   "execution_count": 1,
   "id": "df56002e",
   "metadata": {},
   "outputs": [
    {
     "data": {
      "application/vnd.jupyter.widget-view+json": {
       "model_id": "e98be01aa3e04e60897a8a76f201afff",
       "version_major": 2,
       "version_minor": 0
      },
      "text/plain": [
       "DeckGLWidget(carto_key=None, custom_libraries=[], google_maps_key=None, json_input='{\\n  \"initialViewState\": {…"
      ]
     },
     "metadata": {},
     "output_type": "display_data"
    }
   ],
   "source": [
    "import osmnx as ox\n",
    "import mapbox\n",
    "import pydeck as pdk\n",
    "import plotly.express as px\n",
    "mapbox_access_token = 'pk.eyJ1Ijoia2ltb3Nob25zIiwiYSI6ImNsYzkwcW9yazBpdjkzcHBjbWtlNW1iZHIifQ.Na_6glvmkjBpCFLJ7x1lYA'\n",
    "\n",
    "# download the street network for a city\n",
    "city_name = 'Nairobi, Kenya'\n",
    "city_geocode = ox.geocode(city_name)\n",
    "G = ox.graph_from_point(city_geocode,network_type='drive')\n",
    "# plot the street network\n",
    "#ox.plot_graph(G)\n",
    "# convert graph to geojson file \n",
    "geojson = ox.graph_to_gdfs(G,\n",
    "\n",
    "    nodes=False,edges=True)\n",
    "geojson = geojson.to_json()\n",
    "\n",
    "\n",
    "\n",
    "# create a Mapbox map using the GeoJSON object\n",
    "# create a Mapbox map using the GeoJSON object\n",
    "view_state = pdk.ViewState(latitude=city_geocode[1], longitude=city_geocode[0], zoom=10)\n",
    "geo_data = pdk.Layer(type='GeoJsonLayer',geojson=geojson, mapbox_style='mapbox://styles/mapbox/streets-v9', opacity=0.8)\n",
    "r = pdk.Deck(layers=[geo_data], initial_view_state=view_state,api_keys={'mapbox': mapbox_access_token})\n",
    "\n",
    "# plot the map\n",
    "# pdk.JupyterDeck(r)\n",
    "r.show()\n"
   ]
  },
  {
   "cell_type": "code",
   "execution_count": 2,
   "id": "0a73f555",
   "metadata": {},
   "outputs": [],
   "source": [
    "import ee\n",
    "import geemap"
   ]
  },
  {
   "cell_type": "code",
   "execution_count": 19,
   "id": "24de8d08",
   "metadata": {},
   "outputs": [],
   "source": [
    "# geemap.show_youtube('nAzZjKKd4w0')"
   ]
  },
  {
   "cell_type": "code",
   "execution_count": 9,
   "id": "52023ece",
   "metadata": {},
   "outputs": [],
   "source": [
    "js_snippet = \"\"\"\n",
    "// Load an image.\n",
    "var image = ee.Image('LANDSAT/LC08/C01/T1_TOA/LC08_044034_20140318');\n",
    "\n",
    "// Define the visualization parameters.\n",
    "var vizParams = {\n",
    "  bands: ['B5', 'B4', 'B3'],\n",
    "  min: 0,\n",
    "  max: 0.5,\n",
    "  gamma: [0.95, 1.1, 1]\n",
    "};\n",
    "\n",
    "// Center the map and display the image.\n",
    "Map.setCenter(-122.1899, 37.5010, 10); // San Francisco Bay\n",
    "Map.addLayer(image, vizParams, 'false color composite');\n",
    "\n",
    "\"\"\""
   ]
  },
  {
   "cell_type": "code",
   "execution_count": 10,
   "id": "2ce84f28",
   "metadata": {},
   "outputs": [],
   "source": [
    "geemap.js_snippet_to_py(\n",
    "    js_snippet, add_new_cell=True, import_ee=True, import_geemap=True, show_map=True\n",
    ")"
   ]
  },
  {
   "cell_type": "code",
   "execution_count": 6,
   "id": "87de22ad",
   "metadata": {},
   "outputs": [
    {
     "data": {
      "application/vnd.jupyter.widget-view+json": {
       "model_id": "718da6f50a5c4742ba1abd3a4d626b81",
       "version_major": 2,
       "version_minor": 0
      },
      "text/plain": [
       "Map(center=[-0.1021642983885728, 36.931227857669064], controls=(WidgetControl(options=['position', 'transparen…"
      ]
     },
     "metadata": {},
     "output_type": "display_data"
    }
   ],
   "source": [
    "Map = geemap.Map()\n",
    "\n",
    "# Load an image.\n",
    "image = ee.Image('LANDSAT/LC08/C01/T1_TOA/LC08_044034_20140318')\n",
    "\n",
    "# Define the visualization parameters.\n",
    "vizParams = {\n",
    "  'bands': ['B5', 'B4', 'B3'],\n",
    "  'min': 0,\n",
    "  'max': 0.5,\n",
    "  'gamma': [0.95, 1.1, 1]\n",
    "}\n",
    "\n",
    "\n",
    "# (lon=36.931227857669064, lat=-0.1021642983885728)\n",
    "\n",
    "# Center the map and display the image.\n",
    "Map.setCenter(36.931227857669064, -0.1021642983885728, 7); # Nanyuki\n",
    "Map.addLayer(image, vizParams, 'False color composite')\n",
    "\n",
    "Map"
   ]
  },
  {
   "cell_type": "code",
   "execution_count": 12,
   "id": "405bbbb3",
   "metadata": {},
   "outputs": [],
   "source": [
    "map_js = \"\"\"\n",
    "function generate_collection(geometry) {\n",
    "    var byMonth = ee.ImageCollection('ECMWF/ERA5_LAND/MONTHLY')\n",
    "     .filter(ee.Filter.date(startDate, endDate))\n",
    "     .select(['temperature_2m', 'total_precipitation'])\n",
    "     .map(function (image) { \n",
    "       var reflBands = image.select('temperature_2m').subtract(273.15);\n",
    "       image = image.addBands({\n",
    "           srcImg: reflBands,\n",
    "           overwrite: true\n",
    "       });\n",
    "       return image;\n",
    "       \n",
    "     })\n",
    "     .map(function (image) {\n",
    "       \n",
    "       //https://confluence.ecmwf.int/pages/viewpage.action?pageId=197702790\n",
    "       //calculation follows the link above: ERA5 monthly averaged reanalysis\n",
    "       \n",
    "       var month_start = ee.Date(image.get('system:time_start'));\n",
    "       var month_end = month_start.advance(1,'months');\n",
    "       var delta =  month_end.difference(month_start, 'days');\n",
    "       \n",
    "       var reflBands = image.select('total_precipitation').multiply(1000).multiply(delta);\n",
    "       image = image.addBands({\n",
    "           srcImg: reflBands,\n",
    "           overwrite: true\n",
    "       });\n",
    "       return image;\n",
    "     })\n",
    "     .map(function (image) { return image.set('system:time_start', image.get('system:time_start')) });\n",
    " \n",
    "   return byMonth;\n",
    "   \"\"\""
   ]
  },
  {
   "cell_type": "code",
   "execution_count": 13,
   "id": "811ec9a6",
   "metadata": {},
   "outputs": [],
   "source": [
    "geemap.js_snippet_to_py(map_js)"
   ]
  },
  {
   "cell_type": "code",
   "execution_count": 7,
   "id": "e5bf1d32",
   "metadata": {},
   "outputs": [],
   "source": [
    "Map = geemap.Map()\n",
    "\n",
    "def generate_collection(geometry):\n",
    "    byMonth = ee.ImageCollection('ECMWF/ERA5_LAND/MONTHLY') \\\n",
    "     .filter(ee.Filter.date('2020-01-01','2020-12-31')) \\\n",
    "     .select(['temperature_2m', 'total_precipitation'])\n",
    "\n",
    "def func_wom (image):\n",
    "       reflBands = image.select('temperature_2m').subtract(273.15)\n",
    "       image = image.addBands({\n",
    "           'srcImg': reflBands,\n",
    "           'overwrite': True\n",
    "       })\n",
    "       return image \\\n",
    "     .map(func_wom)\n",
    "\n",
    "def func_khn (image):\n",
    "\n",
    "       #https:#confluence.ecmwf.int/pages/viewpage.action?pageId=197702790\n",
    "       #calculation follows the link above: ERA5 monthly averaged reanalysis\n",
    "\n",
    "       month_start = ee.Date(image.get('system:time_start'))\n",
    "       month_end = month_start.advance(1,'months')\n",
    "       delta =  month_end.difference(month_start, 'days')\n",
    "\n",
    "       reflBands = image.select('total_precipitation').multiply(1000).multiply(delta)\n",
    "       image = image.addBands({\n",
    "           'srcImg': reflBands,\n",
    "           'overwrite': True\n",
    "       })\n",
    "       return image \\\n",
    "     .map(func_khn)\n",
    "\n",
    "# def func_zhk (image):\n",
    "#   return image.set('system:time_start', image.get('system:time_start')) \\\n",
    "#      .map(function (image) ){ return image.set('system:time_start', image.get('system:time_start')) } \\\n",
    "#      .map(func_zhk)\n",
    "\n",
    "#   #  return byMonth"
   ]
  },
  {
   "cell_type": "markdown",
   "id": "23c59314",
   "metadata": {},
   "source": [
    "ELEVATION"
   ]
  },
  {
   "cell_type": "code",
   "execution_count": 14,
   "id": "23f29cfc",
   "metadata": {},
   "outputs": [],
   "source": [
    "elevation_js = \"\"\"\n",
    "var elevation_dataset = ee.Image('NASA/NASADEM_HGT/001');\n",
    "//var elevation_dataset = ee.Image('CGIAR/SRTM90_V4');\n",
    "\n",
    "function get_elevation(geometry) {\n",
    "  var elevation =  Math.round(elevation_dataset\n",
    "    .reduceRegion(ee.Reducer.mean(), geometry, 100).get(\"elevation\").getInfo());\n",
    "  \n",
    "  return elevation;\n",
    "}\n",
    "\"\"\""
   ]
  },
  {
   "cell_type": "code",
   "execution_count": 15,
   "id": "8905700b",
   "metadata": {},
   "outputs": [],
   "source": [
    "geemap.js_snippet_to_py(elevation_js)"
   ]
  },
  {
   "cell_type": "code",
   "execution_count": 8,
   "id": "31da0a75",
   "metadata": {},
   "outputs": [
    {
     "data": {
      "application/vnd.jupyter.widget-view+json": {
       "model_id": "a5764819481a4e0f841490d9e24301cd",
       "version_major": 2,
       "version_minor": 0
      },
      "text/plain": [
       "Map(center=[20, 0], controls=(WidgetControl(options=['position', 'transparent_bg'], widget=HBox(children=(Togg…"
      ]
     },
     "metadata": {},
     "output_type": "display_data"
    }
   ],
   "source": [
    "Map = geemap.Map()\n",
    "import math\n",
    "\n",
    "elevation_dataset = ee.Image('NASA/NASADEM_HGT/001')\n",
    "#elevation_dataset = ee.Image('CGIAR/SRTM90_V4')\n",
    "\n",
    "def get_elevation(geometry):\n",
    "  elevation =  math.round(elevation_dataset \\\n",
    "    .reduceRegion(ee.Reducer.mean(), geometry, 100).get(\"elevation\").getInfo())\n",
    "\n",
    "  return elevation\n",
    "\n",
    "Map"
   ]
  },
  {
   "cell_type": "code",
   "execution_count": 9,
   "id": "f8e8455b",
   "metadata": {},
   "outputs": [],
   "source": [
    "control_js =\"\"\"\n",
    "function control () {\n",
    "  //define the left panel with some info and add it to the ui\n",
    "  var panel = ui.Panel({\n",
    "    style: { width: '400px' }\n",
    "  })\n",
    "  .add(ui.Label(\"Use drawing tool to define a region.\"))\n",
    "  \n",
    "  ui.root.add(panel);\n",
    "  \n",
    "  //define the reset button and add it to the map\n",
    "  ...\n",
    "  \n",
    "  //define chart\n",
    "  var temperature_chart;\n",
    "  var elevation_string;\n",
    "\n",
    "  function refresh(geometry) {\n",
    "    Map.centerObject(geometry);\n",
    "    panel.remove(temperature_chart);\n",
    "    panel.remove(elevation_string);\n",
    "    \n",
    "    var byMonth = generate_collection(geometry);\n",
    "\n",
    "    temperature_chart = generate_chart(byMonth, geometry);\n",
    "    panel.add(temperature_chart);\n",
    "    \n",
    "    var elevation_value = get_elevation(geometry);\n",
    "    var data = \"Elevation: \" + elevation_value + \"m\";\n",
    "    elevation_string = ui.Label({value: data,  style: {textAlign: \"center\", width: '400px', fontSize: '30px', color: '484848'}} );\n",
    "    \n",
    "    panel.add(elevation_string);\n",
    "  }\n",
    "  \n",
    "  //when the user redraw the region, refresh\n",
    "  Map.drawingTools().onDraw(function (new_geometry) {\n",
    "    geometry = new_geometry;\n",
    "    refresh(geometry);\n",
    "  })\n",
    "  \n",
    "  refresh(geometry);\n",
    "}\n",
    "\n",
    "control();\n",
    "\"\"\""
   ]
  },
  {
   "cell_type": "code",
   "execution_count": 18,
   "id": "ef327eea",
   "metadata": {},
   "outputs": [],
   "source": [
    "geemap.js_snippet_to_py(control_js)"
   ]
  },
  {
   "cell_type": "code",
   "execution_count": null,
   "id": "9328c1de",
   "metadata": {},
   "outputs": [],
   "source": [
    "Map = geemap.Map()\n",
    "\n",
    "def control ():\n",
    "  #define the left panel with some info and add it to the ui\n",
    "  panel = ui.Panel({\n",
    "    'style': '{ width': '400px' }\n",
    "  }) \\\n",
    "  .add(ui.Label(\"Use drawing tool to define a region.\"))\n",
    "\n",
    "  ui.root.add(panel) \\\n",
    "  ...\n",
    "\n",
    "  #define chart\n",
    "  # temperature_chart\n",
    "  # elevation_string\n",
    "\n",
    "  def refresh(geometry):\n",
    "    Map.centerObject(geometry)\n",
    "    panel.remove(temperature_chart)\n",
    "    panel.remove(elevation_string)\n",
    "\n",
    "    byMonth = generate_collection(geometry)\n",
    "\n",
    "    temperature_chart = generate_chart(byMonth, geometry)\n",
    "    panel.add(temperature_chart)\n",
    "\n",
    "    elevation_value = get_elevation(geometry)\n",
    "    data = \"Elevation: \" + elevation_value + \"m\"\n",
    "    elevation_string = ui.Label({'value': data, 'style': '{textAlign': \"center\", 'width': '400px', 'fontSize': '30px', 'color': '484848'}} )\n",
    "\n",
    "    panel.add(elevation_string)\n",
    "\n",
    "  #when the user redraw the region, refresh\n",
    "  Map.drawingTools().onDraw(function (new_geometry) {\n",
    "    geometry =_geometry\n",
    "    refresh(geometry)\n",
    "  })\n",
    "\n",
    "  refresh(geometry)\n",
    "\n",
    "control()\n",
    "Map"
   ]
  },
  {
   "cell_type": "code",
   "execution_count": null,
   "id": "1374205d",
   "metadata": {},
   "outputs": [],
   "source": []
  },
  {
   "cell_type": "code",
   "execution_count": null,
   "id": "232c13ff",
   "metadata": {},
   "outputs": [],
   "source": []
  }
 ],
 "metadata": {
  "kernelspec": {
   "display_name": "Python 3.9.13 ('manobi')",
   "language": "python",
   "name": "python3"
  },
  "language_info": {
   "codemirror_mode": {
    "name": "ipython",
    "version": 3
   },
   "file_extension": ".py",
   "mimetype": "text/x-python",
   "name": "python",
   "nbconvert_exporter": "python",
   "pygments_lexer": "ipython3",
   "version": "3.9.13"
  },
  "vscode": {
   "interpreter": {
    "hash": "db72b59d8b45347cff5105497164fad3a288ffc46a2c7e77b5972407610c6705"
   }
  }
 },
 "nbformat": 4,
 "nbformat_minor": 5
}
